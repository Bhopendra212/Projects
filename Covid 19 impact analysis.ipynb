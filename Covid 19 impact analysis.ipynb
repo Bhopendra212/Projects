{
 "cells": [
  {
   "cell_type": "code",
   "execution_count": 2,
   "id": "a19945d6-e4b2-49a9-bcd6-54ca81f702dc",
   "metadata": {},
   "outputs": [],
   "source": [
    "import numpy as np\n",
    "import pandas as pd"
   ]
  },
  {
   "cell_type": "code",
   "execution_count": 4,
   "id": "86ac6875-9f70-49bd-bbb1-4181c48f2d6d",
   "metadata": {},
   "outputs": [],
   "source": [
    "patients=pd.read_csv('state_wise_daily.csv')"
   ]
  },
  {
   "cell_type": "code",
   "execution_count": 7,
   "id": "3cbee472-da33-46aa-ac79-0023d4463721",
   "metadata": {},
   "outputs": [
    {
     "data": {
      "text/plain": [
       "Status\n",
       "Confirmed    597\n",
       "Recovered    597\n",
       "Deceased     597\n",
       "Name: count, dtype: int64"
      ]
     },
     "execution_count": 7,
     "metadata": {},
     "output_type": "execute_result"
    }
   ],
   "source": [
    "patients['Status'].value_counts()"
   ]
  },
  {
   "cell_type": "code",
   "execution_count": 15,
   "id": "02c3b4b5-826f-49d2-b0d0-a40c58917b92",
   "metadata": {},
   "outputs": [],
   "source": [
    "total=patients.shape[0]\n",
    "active=patients[patients['Status']=='Confirmed'].shape[0]\n",
    "recovered=patients[patients['Status']=='Recovered'].shape[0]\n",
    "deaths=patients[patients['Status']=='Deceased'].shape[0]"
   ]
  },
  {
   "cell_type": "code",
   "execution_count": 9,
   "id": "d0c8f0e7-28c1-43ee-b374-47ea7813f92e",
   "metadata": {},
   "outputs": [
    {
     "data": {
      "text/plain": [
       "1791"
      ]
     },
     "execution_count": 9,
     "metadata": {},
     "output_type": "execute_result"
    }
   ],
   "source": [
    "total"
   ]
  },
  {
   "cell_type": "code",
   "execution_count": 13,
   "id": "770c5327-6ef9-432d-985c-6d389a09f942",
   "metadata": {},
   "outputs": [],
   "source": [
    "deaths=patients[patients['Status']=='Deceased'].shape[0]"
   ]
  },
  {
   "cell_type": "code",
   "execution_count": 14,
   "id": "f559734d-3a87-4e14-8823-378518f2ebb2",
   "metadata": {},
   "outputs": [
    {
     "data": {
      "text/plain": [
       "597"
      ]
     },
     "execution_count": 14,
     "metadata": {},
     "output_type": "execute_result"
    }
   ],
   "source": [
    "recovered"
   ]
  },
  {
   "cell_type": "code",
   "execution_count": null,
   "id": "5357de7a-014f-462d-a9d8-3d97d39b11df",
   "metadata": {},
   "outputs": [],
   "source": []
  }
 ],
 "metadata": {
  "kernelspec": {
   "display_name": "Python 3 (ipykernel)",
   "language": "python",
   "name": "python3"
  },
  "language_info": {
   "codemirror_mode": {
    "name": "ipython",
    "version": 3
   },
   "file_extension": ".py",
   "mimetype": "text/x-python",
   "name": "python",
   "nbconvert_exporter": "python",
   "pygments_lexer": "ipython3",
   "version": "3.11.5"
  }
 },
 "nbformat": 4,
 "nbformat_minor": 5
}
