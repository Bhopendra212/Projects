{
 "cells": [
  {
   "cell_type": "code",
   "execution_count": 1,
   "id": "7e5e03bc-c7c6-4200-a2ba-8ec728a53361",
   "metadata": {},
   "outputs": [],
   "source": [
    "import requests\n",
    "from bs4 import BeautifulSoup\n",
    "from urllib.request import urlopen as uReq\n",
    "import logging\n",
    "import os"
   ]
  },
  {
   "cell_type": "code",
   "execution_count": 2,
   "id": "f2a0b73b-dc1b-4206-819f-7ea24af1c0e2",
   "metadata": {},
   "outputs": [],
   "source": [
    "save_dir='images/'\n",
    "if not os.path.exists(save_dir):\n",
    "    os.makedirs(save_dir)"
   ]
  },
  {
   "cell_type": "code",
   "execution_count": 3,
   "id": "ec8dd8a2-c290-4bfd-9ad6-5093f8489427",
   "metadata": {},
   "outputs": [],
   "source": [
    "headers = {'User-Agent': 'Mozilla/5.0 (Windows NT 10.0; Win64; x64) AppleWebkit/537.36 (KHTML,like Gecko) Chrome/58.0.3029.110 Safari/537.56'}"
   ]
  },
  {
   "cell_type": "code",
   "execution_count": 4,
   "id": "a08953da-54ed-487f-8d06-0642e51b3e66",
   "metadata": {},
   "outputs": [],
   "source": [
    "query='Virat Kohli'\n",
    "response=requests.get(f\"https://www.google.com/search?q={query}&sca_esv=585642759&tbm=isch&sxsrf=AM9HkKmkyBko612jotqZhmaoujoetD_7qA:1701100336189&source=lnms&sa=X&ved=2ahUKEwiT4o_KxOSCAxWpS2wGHWHDCwYQ_AUoAXoECAIQAw&biw=1366&bih=619&dpr=1\")"
   ]
  },
  {
   "cell_type": "code",
   "execution_count": 6,
   "id": "59402e5a-8eac-487d-8698-4dd395a1c809",
   "metadata": {},
   "outputs": [
    {
     "name": "stdout",
     "output_type": "stream",
     "text": [
      "<Response [200]>\n"
     ]
    }
   ],
   "source": [
    "print(response)"
   ]
  },
  {
   "cell_type": "code",
   "execution_count": 8,
   "id": "089aa975-8977-4f65-8409-3d8665fe83b2",
   "metadata": {},
   "outputs": [],
   "source": [
    "Soup=BeautifulSoup(response.content,'html.parser')"
   ]
  },
  {
   "cell_type": "code",
   "execution_count": 9,
   "id": "f7690654-5119-4835-857d-d98d4fc1db72",
   "metadata": {},
   "outputs": [
    {
     "data": {
      "text/plain": [
       "<!DOCTYPE html PUBLIC \"-//WAPFORUM//DTD XHTML Mobile 1.0//EN\" \"http://www.wapforum.org/DTD/xhtml-mobile10.dtd\">\n",
       "<html lang=\"en-IN\" xmlns=\"http://www.w3.org/1999/xhtml\"><head><meta content=\"application/xhtml+xml; charset=utf-8\" http-equiv=\"Content-Type\"/><meta content=\"no-cache\" name=\"Cache-Control\"/><title>Virat Kohli - Google Search</title><style>a{text-decoration:none;color:inherit}a:hover{text-decoration:underline}a img{border:0}body{font-family:arial,sans-serif;padding:8px;margin:0 auto;max-width:700px;min-width:240px;}.FbhRzb{border-left:thin solid #dadce0;border-right:thin solid #dadce0;border-top:thin solid #dadce0;height:40px;overflow:hidden}.n692Zd{margin-bottom:10px}.cvifge{height:40px;border-spacing:0}.QvGUP{height:40px;padding:0 8px 0 8px;vertical-align:top}.O4cRJf{height:40px;width:100%;padding:0;padding-right:16px}.O1ePr{height:40px;padding:0;vertical-align:top}.kgJEQe{height:36px;width:98px;vertical-align:top;margin-top:4px}.lXLRf{vertical-align:top}.MhzMZd{border:0;vertical-align:middle;font-size:14px;height:40px;padding:0;width:100%;padding-left:16px}.xB0fq{height:40px;border:none;font-size:14px;background-color:#1a73e8;color:#fff;padding:0 16px;margin:0;vertical-align:top;cursor:pointer}.xB0fq:focus{border:1px solid #1a73e8}.M7pB2{border:thin solid #dadce0;margin:0 0 3px 0;font-size:13px;font-weight:500;height:40px}.euZec{width:100%;height:40px;text-align:center;border-spacing:0}table.euZec td{padding:0;width:25%}.QIqI7{display:inline-block;padding-top:4px;font-weight:bold;color:#4285f4}.EY24We{border-bottom:2px solid #4285f4}.CsQyDc{display:inline-block;color:#70757a}.TuS8Ad{font-size:14px}.HddGcc{padding:8px;color:#70757a}.dzp8ae{font-weight:bold;color:#3c4043}.rEM8G{color:#70757a}.bookcf{table-layout:fixed;width:100%;border-spacing:0}.InWNIe{text-align:center}.uZgmoc{border:thin solid #dadce0;color:#70757a;font-size:14px;text-align:center;table-layout:fixed;width:100%}.frGj1b{display:block;padding:12px 0 12px 0;width:100%}.BnJWBc{text-align:center;padding:6px 0 13px 0;height:35px}.e3goi{vertical-align:top;padding:0;height:180px}.GpQGbf{margin:auto;border-collapse:collapse;border-spacing:0;width:100%}</style></head><body><style>.X6ZCif{color:#202124;font-size:11px;line-height:16px;display:inline-block;padding-top:2px;overflow:hidden;padding-bottom:4px;width:100%}.TwVfHd{border-radius:16px;border:thin solid #dadce0;display:inline-block;padding:8px 8px;margin-right:8px;margin-bottom:4px}.yekiAe{background-color:#dadce0}.jjVJ4e{width:100%}.ezO2md{border:thin solid #dadce0;padding:12px 16px 12px 16px;margin-bottom:10px;font-family:arial,sans-serif}.lIMUZd{font-family:arial,sans-serif}.RntSmf{border-spacing:0}.lgD2Tc{width:100%}.SpelHe{text-align:center}.SpelHe{position:relative}.deHqpb{bottom:0;left:0;margin:auto;position:absolute;right:0;top:0}.kCmkOe{position:relative}.ID6Z3b{background-image:url(https://www.gstatic.com/search_trustx/visibility_off_icon_p0-7d897bf44bafe5436baa9009e8716337.png);background-repeat:no-repeat;background-position:center;background-size:20px}.kCmkOe{width:162px;height:140px;line-height:140px;overflow:'hidden';text-align:center}.DS1iW{text-align:center;margin:auto;vertical-align:middle;max-width:162px;max-height:140px}.AlD19d{padding-top:2px;padding-bottom:8px;}.fYyStc{word-break:break-word}.ynsChf{display:block;white-space:nowrap;overflow:hidden;text-overflow:ellipsis}.Fj3V3b{color:#1967d2;font-size:14px;line-height:20px}.FrIlee{color:#202124;font-size:11px;line-height:16px}.F9iS2e{color:#70757a;font-size:11px;line-height:16px}.WMQ2Le{color:#70757a;font-size:12px;line-height:16px}.x3G5ab{color:#202124;font-size:12px;line-height:16px}.fuLhoc{color:#1967d2;font-size:16px;line-height:20px}.epoveb{font-size:24px;line-height:28px;font-weight:400;color:#202124}.dXDvrc{color:#0d652d;font-size:14px;line-height:20px;word-wrap:break-word}.dloBPe{font-weight:bold}.YVIcad{color:#70757a}.JkVVdd{color:#ea4335}.oXZRFd{color:#ea4335}.MQHtg{color:#fbbc04}.pyMRrb{color:#1e8e3e}.EtTZid{color:#1e8e3e}.M3vVJe{color:#1967d2}.qXLe6d{display:block}.NHQNef{font-style:italic}.Cb8Z7c{white-space:pre}a.ZWRArf{text-decoration:none}a .CVA68e:hover{text-decoration:underline}</style><div class=\"n692Zd\"><div class=\"BnJWBc\"><a class=\"lXLRf\" href=\"/?sa=X&amp;sca_esv=585642759&amp;biw=1366&amp;bih=619&amp;output=images&amp;ie=UTF-8&amp;tbm=isch&amp;ved=0ahUKEwjuls7px-SCAxXSfWwGHX6GAfIQPAgC\"><img alt=\"Google\" class=\"kgJEQe\" src=\"/images/branding/searchlogo/1x/googlelogo_desk_heirloom_color_150x55dp.gif\"/></a></div><div class=\"FbhRzb\"><form action=\"/search\"><input name=\"sca_esv\" type=\"hidden\" value=\"585642759\"/><input name=\"biw\" type=\"hidden\" value=\"1366\"/><input name=\"bih\" type=\"hidden\" value=\"619\"/><input name=\"ie\" type=\"hidden\" value=\"ISO-8859-1\"/><input name=\"tbm\" type=\"hidden\" value=\"isch\"/><input name=\"oq\" type=\"hidden\"/><input name=\"aqs\" type=\"hidden\"/><table class=\"cvifge\"><tr><td class=\"O4cRJf\"><input class=\"MhzMZd\" name=\"q\" type=\"text\" value=\"Virat Kohli\"/></td><td class=\"O1ePr\"><input class=\"xB0fq\" type=\"submit\" value=\"Search\"/></td></tr></table></form></div><div class=\"M7pB2\"><table class=\"euZec\"><tbody><tr><td><a class=\"CsQyDc\" href=\"/search?q=Virat+Kohli&amp;sca_esv=585642759&amp;biw=1366&amp;bih=619&amp;ie=UTF-8&amp;source=lnms&amp;sa=X&amp;ved=0ahUKEwjuls7px-SCAxXSfWwGHX6GAfIQ_AUIBCgA\">ALL</a></td><td><a class=\"CsQyDc\" href=\"/search?q=Virat+Kohli&amp;sca_esv=585642759&amp;biw=1366&amp;bih=619&amp;ie=UTF-8&amp;tbm=nws&amp;source=lnms&amp;sa=X&amp;ved=0ahUKEwjuls7px-SCAxXSfWwGHX6GAfIQ_AUIBSgB\">NEWS</a></td><td class=\"EY24We\"><span class=\"QIqI7\">IMAGES</span></td><td><a class=\"CsQyDc\" href=\"/search?q=Virat+Kohli&amp;sca_esv=585642759&amp;biw=1366&amp;bih=619&amp;ie=UTF-8&amp;tbm=vid&amp;source=lnms&amp;sa=X&amp;ved=0ahUKEwjuls7px-SCAxXSfWwGHX6GAfIQ_AUIBygD\">VIDEOS</a></td></tr></tbody></table></div></div><div class=\"X6ZCif\"><a class=\"TwVfHd\" href=\"/search?sca_esv=585642759&amp;biw=1366&amp;bih=619&amp;ie=UTF-8&amp;tbm=isch&amp;q=Virat+Kohli&amp;chips=q:virat+kohli,g_1:wallpaper&amp;sa=X&amp;ved=0ahUKEwjuls7px-SCAxXSfWwGHX6GAfIQ4lYICygA\">wallpaper</a><a class=\"TwVfHd\" href=\"/search?sca_esv=585642759&amp;biw=1366&amp;bih=619&amp;ie=UTF-8&amp;tbm=isch&amp;q=Virat+Kohli&amp;chips=q:virat+kohli,g_1:hairstyle&amp;sa=X&amp;ved=0ahUKEwjuls7px-SCAxXSfWwGHX6GAfIQ4lYIDCgB\">hairstyle</a><a class=\"TwVfHd\" href=\"/search?sca_esv=585642759&amp;biw=1366&amp;bih=619&amp;ie=UTF-8&amp;tbm=isch&amp;q=Virat+Kohli&amp;chips=q:virat+kohli,g_1:style&amp;sa=X&amp;ved=0ahUKEwjuls7px-SCAxXSfWwGHX6GAfIQ4lYIDSgC\">style</a><a class=\"TwVfHd\" href=\"/search?sca_esv=585642759&amp;biw=1366&amp;bih=619&amp;ie=UTF-8&amp;tbm=isch&amp;q=Virat+Kohli&amp;chips=q:virat+kohli,g_1:wedding&amp;sa=X&amp;ved=0ahUKEwjuls7px-SCAxXSfWwGHX6GAfIQ4lYIDigD\">wedding</a><a class=\"TwVfHd\" href=\"/search?sca_esv=585642759&amp;biw=1366&amp;bih=619&amp;ie=UTF-8&amp;tbm=isch&amp;q=Virat+Kohli&amp;chips=q:virat+kohli,g_1:new+look&amp;sa=X&amp;ved=0ahUKEwjuls7px-SCAxXSfWwGHX6GAfIQ4lYIDygE\">new look</a><a class=\"TwVfHd\" href=\"/search?sca_esv=585642759&amp;biw=1366&amp;bih=619&amp;ie=UTF-8&amp;tbm=isch&amp;q=Virat+Kohli&amp;chips=q:virat+kohli,g_1:tattoo&amp;sa=X&amp;ved=0ahUKEwjuls7px-SCAxXSfWwGHX6GAfIQ4lYIECgF\">tattoo</a><a class=\"TwVfHd\" href=\"/search?sca_esv=585642759&amp;biw=1366&amp;bih=619&amp;ie=UTF-8&amp;tbm=isch&amp;q=Virat+Kohli&amp;chips=q:virat+kohli,g_1:captain&amp;sa=X&amp;ved=0ahUKEwjuls7px-SCAxXSfWwGHX6GAfIQ4lYIESgG\">captain</a><a class=\"TwVfHd\" href=\"/search?sca_esv=585642759&amp;biw=1366&amp;bih=619&amp;ie=UTF-8&amp;tbm=isch&amp;q=Virat+Kohli&amp;chips=q:virat+kohli,g_1:century&amp;sa=X&amp;ved=0ahUKEwjuls7px-SCAxXSfWwGHX6GAfIQ4lYIEigH\">century</a><a class=\"TwVfHd\" href=\"/search?sca_esv=585642759&amp;biw=1366&amp;bih=619&amp;ie=UTF-8&amp;tbm=isch&amp;q=Virat+Kohli&amp;chips=q:virat+kohli,g_1:rohit+sharma&amp;sa=X&amp;ved=0ahUKEwjuls7px-SCAxXSfWwGHX6GAfIQ4lYIEygI\">rohit sharma</a><a class=\"TwVfHd\" href=\"/search?sca_esv=585642759&amp;biw=1366&amp;bih=619&amp;ie=UTF-8&amp;tbm=isch&amp;q=Virat+Kohli&amp;chips=q:virat+kohli,g_1:sketch&amp;sa=X&amp;ved=0ahUKEwjuls7px-SCAxXSfWwGHX6GAfIQ4lYIFCgJ\">sketch</a></div><div><table class=\"GpQGbf\"><tr><td align=\"center\" class=\"e3goi\"><div class=\"jjVJ4e\"> <div> <div class=\"lIMUZd\"><div><table class=\"RntSmf\"><tr><td><a href=\"/url?q=https://en.wikipedia.org/wiki/Virat_Kohli&amp;sa=U&amp;ved=2ahUKEwjuls7px-SCAxXSfWwGHX6GAfIQqoUBegQIBRAB&amp;usg=AOvVaw1fTNtCQq6fOEA0Q1jlB6Ny\"><div class=\"kCmkOe\"><img alt=\"\" class=\"DS1iW\" src=\"https://encrypted-tbn0.gstatic.com/images?q=tbn:ANd9GcSApOD8cC7Jh33c0VqbcFkcmx0og9wr1DYsD50a8Tp3p-0I33M_SuuLXA0Kizk&amp;s\"/></div></a></td></tr><tr><td><a href=\"/url?q=https://en.wikipedia.org/wiki/Virat_Kohli&amp;sa=U&amp;ved=2ahUKEwjuls7px-SCAxXSfWwGHX6GAfIQr4kDegQIBRAC&amp;usg=AOvVaw08GDERoE9EoRRzTeQasscV\"><div class=\"AlD19d\"> <span class=\"qXLe6d x3G5ab\"> <span class=\"fYyStc\">Virat Kohli - Wikipedia</span> </span> <span class=\"qXLe6d F9iS2e\"> <span class=\"fYyStc\">en.wikipedia.org</span> </span> </div></a></td></tr></table></div></div> </div> </div></td><td align=\"center\" class=\"e3goi\"><div class=\"jjVJ4e\"> <div> <div class=\"lIMUZd\"><div><table class=\"RntSmf\"><tr><td><a href=\"/url?q=https://revsportz.in/loving-what-you-do-at-the-heart-of-handling-pressure-kohli/&amp;sa=U&amp;ved=2ahUKEwjuls7px-SCAxXSfWwGHX6GAfIQqoUBegQIEhAB&amp;usg=AOvVaw3p-Rs9f1mmnQE-1epTu38G\"><div class=\"kCmkOe\"><img alt=\"\" class=\"DS1iW\" src=\"https://encrypted-tbn0.gstatic.com/images?q=tbn:ANd9GcRgTE2N-_sNdYh3U67ejUDU8yHTn60PET41XqJ5_f7aFG7046QsagxZDHL41kA&amp;s\"/></div></a></td></tr><tr><td><a href=\"/url?q=https://revsportz.in/loving-what-you-do-at-the-heart-of-handling-pressure-kohli/&amp;sa=U&amp;ved=2ahUKEwjuls7px-SCAxXSfWwGHX6GAfIQr4kDegQIEhAC&amp;usg=AOvVaw3sStqDDhy76M9aNwfJcc4J\"><div class=\"AlD19d\"> <span class=\"qXLe6d x3G5ab\"> <span class=\"fYyStc\">Loving what you do at the...</span> </span> <span class=\"qXLe6d F9iS2e\"> <span class=\"fYyStc\">revsportz.in</span> </span> </div></a></td></tr></table></div></div> </div> </div></td><td align=\"center\" class=\"e3goi\"><div class=\"jjVJ4e\"> <div> <div class=\"lIMUZd\"><div><table class=\"RntSmf\"><tr><td><a href=\"/url?q=https://m.timesofindia.com/sports/cricket/icc-world-cup/icc-world-cup-photos/world-cup-virat-kohli-leads-india-stat-attack-against-bangladesh/photostory/104569311.cms&amp;sa=U&amp;ved=2ahUKEwjuls7px-SCAxXSfWwGHX6GAfIQqoUBegQIExAB&amp;usg=AOvVaw3hz0GOnwkVCSD8gsKI11II\"><div class=\"kCmkOe\"><img alt=\"\" class=\"DS1iW\" src=\"https://encrypted-tbn0.gstatic.com/images?q=tbn:ANd9GcTAiMpSi_l_2Ox-l6rmEgEXvvZVbyGCd_38EMKKlglEAsB8yDOXsLJvl5MKDQ&amp;s\"/></div></a></td></tr><tr><td><a href=\"/url?q=https://m.timesofindia.com/sports/cricket/icc-world-cup/icc-world-cup-photos/world-cup-virat-kohli-leads-india-stat-attack-against-bangladesh/photostory/104569311.cms&amp;sa=U&amp;ved=2ahUKEwjuls7px-SCAxXSfWwGHX6GAfIQr4kDegQIExAC&amp;usg=AOvVaw2DZ6WGRncJvYX53OZ861Qp\"><div class=\"AlD19d\"> <span class=\"qXLe6d x3G5ab\"> <span class=\"fYyStc\">World Cup: Virat Kohli...</span> </span> <span class=\"qXLe6d F9iS2e\"> <span class=\"fYyStc\">m.timesofindia.com</span> </span> </div></a></td></tr></table></div></div> </div> </div></td><td align=\"center\" class=\"e3goi\"><div class=\"jjVJ4e\"> <div> <div class=\"lIMUZd\"><div><table class=\"RntSmf\"><tr><td><a href=\"/url?q=https://www.cricketworldcup.com/video/3793935&amp;sa=U&amp;ved=2ahUKEwjuls7px-SCAxXSfWwGHX6GAfIQqoUBegQIChAB&amp;usg=AOvVaw3fm2BfRofm-sGi0ategCsC\"><div class=\"kCmkOe\"><img alt=\"\" class=\"DS1iW\" src=\"https://encrypted-tbn0.gstatic.com/images?q=tbn:ANd9GcQiANnwmlSWg_DriDZny8kbPSsuUshaxRsUpeWXc1c9jd4X6-VPBsXPzjx7oQ&amp;s\"/></div></a></td></tr><tr><td><a href=\"/url?q=https://www.cricketworldcup.com/video/3793935&amp;sa=U&amp;ved=2ahUKEwjuls7px-SCAxXSfWwGHX6GAfIQr4kDegQIChAC&amp;usg=AOvVaw3k2_HduvOGMk7qGR8RQxEU\"><div class=\"AlD19d\"> <span class=\"qXLe6d x3G5ab\"> <span class=\"fYyStc\">Every ball bowled by Virat...</span> </span> <span class=\"qXLe6d F9iS2e\"> <span class=\"fYyStc\">www.cricketworldcup.com</span> </span> </div></a></td></tr></table></div></div> </div> </div></td></tr><tr><td align=\"center\" class=\"e3goi\"><div class=\"jjVJ4e\"> <div> <div class=\"lIMUZd\"><div><table class=\"RntSmf\"><tr><td><a href=\"/url?q=https://news.abplive.com/sports/cricket/virat-kohli-completes-15-years-in-international-cricket-virat-kohli-stats-all-formats-journey-international-cricket-1623742&amp;sa=U&amp;ved=2ahUKEwjuls7px-SCAxXSfWwGHX6GAfIQqoUBegQICRAB&amp;usg=AOvVaw0gmPSHN6WBgYB8rCCEp0GQ\"><div class=\"kCmkOe\"><img alt=\"\" class=\"DS1iW\" src=\"https://encrypted-tbn0.gstatic.com/images?q=tbn:ANd9GcR0o85B6qbCXNBYSkig0_tBxnBh_J1fg1yAtBZPtod-ZaVPJz4_kCimvEtSrw&amp;s\"/></div></a></td></tr><tr><td><a href=\"/url?q=https://news.abplive.com/sports/cricket/virat-kohli-completes-15-years-in-international-cricket-virat-kohli-stats-all-formats-journey-international-cricket-1623742&amp;sa=U&amp;ved=2ahUKEwjuls7px-SCAxXSfWwGHX6GAfIQr4kDegQICRAC&amp;usg=AOvVaw2hX9Spy0TVkiVT0jIcHeuC\"><div class=\"AlD19d\"> <span class=\"qXLe6d x3G5ab\"> <span class=\"fYyStc\">Virat Kohli Completes 15...</span> </span> <span class=\"qXLe6d F9iS2e\"> <span class=\"fYyStc\">news.abplive.com</span> </span> </div></a></td></tr></table></div></div> </div> </div></td><td align=\"center\" class=\"e3goi\"><div class=\"jjVJ4e\"> <div> <div class=\"lIMUZd\"><div><table class=\"RntSmf\"><tr><td><a href=\"/url?q=https://www.poornima.edu.in/cricket/virat-kohli-centuries-stats/&amp;sa=U&amp;ved=2ahUKEwjuls7px-SCAxXSfWwGHX6GAfIQqoUBegQIEBAB&amp;usg=AOvVaw2wAIseMs7Zd1Msdl4pEfLR\"><div class=\"kCmkOe\"><img alt=\"\" class=\"DS1iW\" src=\"https://encrypted-tbn0.gstatic.com/images?q=tbn:ANd9GcT2v0yEw2bWpMXW-OkRvmrw2TuzL8pv9_3Ltkmm2dbJQnRucZvuyUvpYWwHiTU&amp;s\"/></div></a></td></tr><tr><td><a href=\"/url?q=https://www.poornima.edu.in/cricket/virat-kohli-centuries-stats/&amp;sa=U&amp;ved=2ahUKEwjuls7px-SCAxXSfWwGHX6GAfIQr4kDegQIEBAC&amp;usg=AOvVaw2RQfKKitu_MNbSP1UgxBVL\"><div class=\"AlD19d\"> <span class=\"qXLe6d x3G5ab\"> <span class=\"fYyStc\">Virat Kohli Centuries Stats...</span> </span> <span class=\"qXLe6d F9iS2e\"> <span class=\"fYyStc\">www.poornima.edu.in</span> </span> </div></a></td></tr></table></div></div> </div> </div></td><td align=\"center\" class=\"e3goi\"><div class=\"jjVJ4e\"> <div> <div class=\"lIMUZd\"><div><table class=\"RntSmf\"><tr><td><a href=\"/url?q=https://m.timesofindia.com/sports/cricket/icc-world-cup/icc-world-cup-photos/world-cup-virat-kohli-leads-india-stat-attack-against-bangladesh/photostory/104569311.cms&amp;sa=U&amp;ved=2ahUKEwjuls7px-SCAxXSfWwGHX6GAfIQqoUBegQICxAB&amp;usg=AOvVaw1NSRGECIyaAmuuCKWGR9YC\"><div class=\"kCmkOe\"><img alt=\"\" class=\"DS1iW\" src=\"https://encrypted-tbn0.gstatic.com/images?q=tbn:ANd9GcQhQKLM_qQA3LpS1HlzLoObF-k4qdBW30P8ftrbMd0869KFnLPdpzaBn_x2-3k&amp;s\"/></div></a></td></tr><tr><td><a href=\"/url?q=https://m.timesofindia.com/sports/cricket/icc-world-cup/icc-world-cup-photos/world-cup-virat-kohli-leads-india-stat-attack-against-bangladesh/photostory/104569311.cms&amp;sa=U&amp;ved=2ahUKEwjuls7px-SCAxXSfWwGHX6GAfIQr4kDegQICxAC&amp;usg=AOvVaw0Aiil8gYEVj3LJ_YaY6N-V\"><div class=\"AlD19d\"> <span class=\"qXLe6d x3G5ab\"> <span class=\"fYyStc\">World Cup: Virat Kohli...</span> </span> <span class=\"qXLe6d F9iS2e\"> <span class=\"fYyStc\">m.timesofindia.com</span> </span> </div></a></td></tr></table></div></div> </div> </div></td><td align=\"center\" class=\"e3goi\"><div class=\"jjVJ4e\"> <div> <div class=\"lIMUZd\"><div><table class=\"RntSmf\"><tr><td><a href=\"/url?q=https://www.hindustantimes.com/cricket/enjoy-from-your-homes-please-virat-kohlis-ticket-disclaimer-as-india-gear-up-for-home-world-cup-101696397688754.html&amp;sa=U&amp;ved=2ahUKEwjuls7px-SCAxXSfWwGHX6GAfIQqoUBegQIDRAB&amp;usg=AOvVaw0g3MvrweMNEHDzhYalmfdv\"><div class=\"kCmkOe\"><img alt=\"\" class=\"DS1iW\" src=\"https://encrypted-tbn0.gstatic.com/images?q=tbn:ANd9GcQFNDk8omnbNfjxWI0vGNovro_0kW6Q1tFwMyXi1-KOQ5G526Wn0MkTlZ_Q7w&amp;s\"/></div></a></td></tr><tr><td><a href=\"/url?q=https://www.hindustantimes.com/cricket/enjoy-from-your-homes-please-virat-kohlis-ticket-disclaimer-as-india-gear-up-for-home-world-cup-101696397688754.html&amp;sa=U&amp;ved=2ahUKEwjuls7px-SCAxXSfWwGHX6GAfIQr4kDegQIDRAC&amp;usg=AOvVaw2wuI6ImPDDC5Km6uVqqwZd\"><div class=\"AlD19d\"> <span class=\"qXLe6d x3G5ab\"> <span class=\"fYyStc\">Enjoy from your homes...</span> </span> <span class=\"qXLe6d F9iS2e\"> <span class=\"fYyStc\">www.hindustantimes.com</span> </span> </div></a></td></tr></table></div></div> </div> </div></td></tr><tr><td align=\"center\" class=\"e3goi\"><div class=\"jjVJ4e\"> <div> <div class=\"lIMUZd\"><div><table class=\"RntSmf\"><tr><td><a href=\"/url?q=https://www.cricbuzz.com/profiles/1413/virat-kohli&amp;sa=U&amp;ved=2ahUKEwjuls7px-SCAxXSfWwGHX6GAfIQqoUBegQIDxAB&amp;usg=AOvVaw12EQmkcZTvI9i9nxo2niy1\"><div class=\"kCmkOe\"><img alt=\"\" class=\"DS1iW\" src=\"https://encrypted-tbn0.gstatic.com/images?q=tbn:ANd9GcRex6xKHaq0ZelmDv9UfgKkFGxqAX5v3u0Jw2ygIvOGDtQ5-9n8PFz9hVPyIFw&amp;s\"/></div></a></td></tr><tr><td><a href=\"/url?q=https://www.cricbuzz.com/profiles/1413/virat-kohli&amp;sa=U&amp;ved=2ahUKEwjuls7px-SCAxXSfWwGHX6GAfIQr4kDegQIDxAC&amp;usg=AOvVaw019eExlvcFUeSoqgOShptC\"><div class=\"AlD19d\"> <span class=\"qXLe6d x3G5ab\"> <span class=\"fYyStc\">Virat Kohli Profile - ICC...</span> </span> <span class=\"qXLe6d F9iS2e\"> <span class=\"fYyStc\">www.cricbuzz.com</span> </span> </div></a></td></tr></table></div></div> </div> </div></td><td align=\"center\" class=\"e3goi\"><div class=\"jjVJ4e\"> <div> <div class=\"lIMUZd\"><div><table class=\"RntSmf\"><tr><td><a href=\"/url?q=https://crickettimes.com/2023/11/chris-gayle-gives-his-verdict-on-the-future-of-virat-kohli-and-rohit-sharma/&amp;sa=U&amp;ved=2ahUKEwjuls7px-SCAxXSfWwGHX6GAfIQqoUBegQIDBAB&amp;usg=AOvVaw13UHe6TD168O-HiD389K0_\"><div class=\"kCmkOe\"><img alt=\"\" class=\"DS1iW\" src=\"https://encrypted-tbn0.gstatic.com/images?q=tbn:ANd9GcT_b0VbqFhUtz1lxxoqCxdrDbr72ojmXiq5pK-Y6eXQGR77xpJfOazZKT-Keg&amp;s\"/></div></a></td></tr><tr><td><a href=\"/url?q=https://crickettimes.com/2023/11/chris-gayle-gives-his-verdict-on-the-future-of-virat-kohli-and-rohit-sharma/&amp;sa=U&amp;ved=2ahUKEwjuls7px-SCAxXSfWwGHX6GAfIQr4kDegQIDBAC&amp;usg=AOvVaw0mYuakbMJAAF7Mv80ZmLV9\"><div class=\"AlD19d\"> <span class=\"qXLe6d x3G5ab\"> <span class=\"fYyStc\">Chris Gayle gives his...</span> </span> <span class=\"qXLe6d F9iS2e\"> <span class=\"fYyStc\">crickettimes.com</span> </span> </div></a></td></tr></table></div></div> </div> </div></td><td align=\"center\" class=\"e3goi\"><div class=\"jjVJ4e\"> <div> <div class=\"lIMUZd\"><div><table class=\"RntSmf\"><tr><td><a href=\"/url?q=https://www.iplt20.com/teams/royal-challengers-bangalore/squad-details/164&amp;sa=U&amp;ved=2ahUKEwjuls7px-SCAxXSfWwGHX6GAfIQqoUBegQIDhAB&amp;usg=AOvVaw1_v9xHfZGVTTlq7kCAixkG\"><div class=\"kCmkOe\"><img alt=\"\" class=\"DS1iW\" src=\"https://encrypted-tbn0.gstatic.com/images?q=tbn:ANd9GcQjN3o1k7S3Qtlo6YyMkXLv6D4wZ-_tWt2keLcq-w8IlpSsMHVZCa3elriucYE&amp;s\"/></div></a></td></tr><tr><td><a href=\"/url?q=https://www.iplt20.com/teams/royal-challengers-bangalore/squad-details/164&amp;sa=U&amp;ved=2ahUKEwjuls7px-SCAxXSfWwGHX6GAfIQr4kDegQIDhAC&amp;usg=AOvVaw3hfOfyLwShDmWgKb9DOtnw\"><div class=\"AlD19d\"> <span class=\"qXLe6d x3G5ab\"> <span class=\"fYyStc\">Mens Team | IPLT20</span> </span> <span class=\"qXLe6d F9iS2e\"> <span class=\"fYyStc\">www.iplt20.com</span> </span> </div></a></td></tr></table></div></div> </div> </div></td><td align=\"center\" class=\"e3goi\"><div class=\"jjVJ4e\"> <div> <div class=\"lIMUZd\"><div><table class=\"RntSmf\"><tr><td><a href=\"/url?q=https://crictoday.com/cricket/news/virat-kohli-can-play-2027-odi-world-cup-if-he-stays-fit-salman-butt/&amp;sa=U&amp;ved=2ahUKEwjuls7px-SCAxXSfWwGHX6GAfIQqoUBegQIERAB&amp;usg=AOvVaw3VaF9XOinOeC-PBQrC0G_b\"><div class=\"kCmkOe\"><img alt=\"\" class=\"DS1iW\" src=\"https://encrypted-tbn0.gstatic.com/images?q=tbn:ANd9GcSuyheOz__m1drXyPXHHsEa7S4Nw0NYTf8l39SewG8E_g0dP45H77WweJEiHA&amp;s\"/></div></a></td></tr><tr><td><a href=\"/url?q=https://crictoday.com/cricket/news/virat-kohli-can-play-2027-odi-world-cup-if-he-stays-fit-salman-butt/&amp;sa=U&amp;ved=2ahUKEwjuls7px-SCAxXSfWwGHX6GAfIQr4kDegQIERAC&amp;usg=AOvVaw0I9yq52_J5YMXWar32e9fH\"><div class=\"AlD19d\"> <span class=\"qXLe6d x3G5ab\"> <span class=\"fYyStc\">Virat Kohli can play 2027...</span> </span> <span class=\"qXLe6d F9iS2e\"> <span class=\"fYyStc\">crictoday.com</span> </span> </div></a></td></tr></table></div></div> </div> </div></td></tr><tr><td align=\"center\" class=\"e3goi\"><div class=\"jjVJ4e\"> <div> <div class=\"lIMUZd\"><div><table class=\"RntSmf\"><tr><td><a href=\"/url?q=https://gim.ac.in/modules/custom/custom_faculty/images/cricket/virat-kohli-first-century-in-ipl/&amp;sa=U&amp;ved=2ahUKEwjuls7px-SCAxXSfWwGHX6GAfIQqoUBegQIBxAB&amp;usg=AOvVaw1IEVH9dwlww_jwHwQSVQ3D\"><div class=\"kCmkOe\"><img alt=\"\" class=\"DS1iW\" src=\"https://encrypted-tbn0.gstatic.com/images?q=tbn:ANd9GcSxvVG3ZbkwHoEVQVft4TMA-VX7R8gyvDD4Y5u00zW5xmp-Kay3JJKJIyLphw&amp;s\"/></div></a></td></tr><tr><td><a href=\"/url?q=https://gim.ac.in/modules/custom/custom_faculty/images/cricket/virat-kohli-first-century-in-ipl/&amp;sa=U&amp;ved=2ahUKEwjuls7px-SCAxXSfWwGHX6GAfIQr4kDegQIBxAC&amp;usg=AOvVaw3KuJp6jxbBH_pqClcUOqP4\"><div class=\"AlD19d\"> <span class=\"qXLe6d x3G5ab\"> <span class=\"fYyStc\">Virat Kohli First Century...</span> </span> <span class=\"qXLe6d F9iS2e\"> <span class=\"fYyStc\">gim.ac.in</span> </span> </div></a></td></tr></table></div></div> </div> </div></td><td align=\"center\" class=\"e3goi\"><div class=\"jjVJ4e\"> <div> <div class=\"lIMUZd\"><div><table class=\"RntSmf\"><tr><td><a href=\"/url?q=https://www.skysports.com/cricket/news/12344/13010325/cricket-world-cup-final-virat-kohli-breaks-sachin-tendulkar-record-now-for-the-crowning-glory&amp;sa=U&amp;ved=2ahUKEwjuls7px-SCAxXSfWwGHX6GAfIQqoUBegQIABAB&amp;usg=AOvVaw170WWQwro-9yfqYvOz0rRi\"><div class=\"kCmkOe\"><img alt=\"\" class=\"DS1iW\" src=\"https://encrypted-tbn0.gstatic.com/images?q=tbn:ANd9GcSHo9xNoyq67GdqQmiYwTJ5z9DsnanzunQQu64uC7yfTNKUpUQvWTnvz60RdRs&amp;s\"/></div></a></td></tr><tr><td><a href=\"/url?q=https://www.skysports.com/cricket/news/12344/13010325/cricket-world-cup-final-virat-kohli-breaks-sachin-tendulkar-record-now-for-the-crowning-glory&amp;sa=U&amp;ved=2ahUKEwjuls7px-SCAxXSfWwGHX6GAfIQr4kDegQIABAC&amp;usg=AOvVaw0_Gf0fynWZYJDIlk0Rrljt\"><div class=\"AlD19d\"> <span class=\"qXLe6d x3G5ab\"> <span class=\"fYyStc\">Cricket World Cup final:...</span> </span> <span class=\"qXLe6d F9iS2e\"> <span class=\"fYyStc\">www.skysports.com</span> </span> </div></a></td></tr></table></div></div> </div> </div></td><td align=\"center\" class=\"e3goi\"><div class=\"jjVJ4e\"> <div> <div class=\"lIMUZd\"><div><table class=\"RntSmf\"><tr><td><a href=\"/url?q=https://www.t20worldcup.com/news/2891279&amp;sa=U&amp;ved=2ahUKEwjuls7px-SCAxXSfWwGHX6GAfIQqoUBegQIAhAB&amp;usg=AOvVaw35GkgRWuwa0OtkSIu-IwYB\"><div class=\"kCmkOe\"><img alt=\"\" class=\"DS1iW\" src=\"https://encrypted-tbn0.gstatic.com/images?q=tbn:ANd9GcSy4d5Yh1XhlwbvTrr1I05e6nSLS1fAhrbDuJcedq4q7j0W0QYKZrXX6vKQWQ&amp;s\"/></div></a></td></tr><tr><td><a href=\"/url?q=https://www.t20worldcup.com/news/2891279&amp;sa=U&amp;ved=2ahUKEwjuls7px-SCAxXSfWwGHX6GAfIQr4kDegQIAhAC&amp;usg=AOvVaw0IAU5Rkx5BTNDtQ757jDuX\"><div class=\"AlD19d\"> <span class=\"qXLe6d x3G5ab\"> <span class=\"fYyStc\">Revealed: Why Ricky Ponting...</span> </span> <span class=\"qXLe6d F9iS2e\"> <span class=\"fYyStc\">www.t20worldcup.com</span> </span> </div></a></td></tr></table></div></div> </div> </div></td><td align=\"center\" class=\"e3goi\"><div class=\"jjVJ4e\"> <div> <div class=\"lIMUZd\"><div><table class=\"RntSmf\"><tr><td><a href=\"/url?q=https://rapidkings.com/virat-kohli-phone-number-whatsapp-number-house-address-email-id-contacts/&amp;sa=U&amp;ved=2ahUKEwjuls7px-SCAxXSfWwGHX6GAfIQqoUBegQIBBAB&amp;usg=AOvVaw1BkFpywU6sQ9ow48x1S8qx\"><div class=\"kCmkOe\"><img alt=\"\" class=\"DS1iW\" src=\"https://encrypted-tbn0.gstatic.com/images?q=tbn:ANd9GcR6OnSs5mDy3uhCmj7_yrFhJP5OSbo-vKgwUNDfNqXyR4sXaxeEN23wzL1lqg&amp;s\"/></div></a></td></tr><tr><td><a href=\"/url?q=https://rapidkings.com/virat-kohli-phone-number-whatsapp-number-house-address-email-id-contacts/&amp;sa=U&amp;ved=2ahUKEwjuls7px-SCAxXSfWwGHX6GAfIQr4kDegQIBBAC&amp;usg=AOvVaw0tmHwdjLCuPrrZKQaSdhM9\"><div class=\"AlD19d\"> <span class=\"qXLe6d x3G5ab\"> <span class=\"fYyStc\">OFFICIAL CONTACT- Virat...</span> </span> <span class=\"qXLe6d F9iS2e\"> <span class=\"fYyStc\">rapidkings.com</span> </span> </div></a></td></tr></table></div></div> </div> </div></td></tr><tr><td align=\"center\" class=\"e3goi\"><div class=\"jjVJ4e\"> <div> <div class=\"lIMUZd\"><div><table class=\"RntSmf\"><tr><td><a href=\"/url?q=https://www.forbes.com/profile/virat-kohli/&amp;sa=U&amp;ved=2ahUKEwjuls7px-SCAxXSfWwGHX6GAfIQqoUBegQIARAB&amp;usg=AOvVaw2EJAXlB1Tu5NFlOnK_IMui\"><div class=\"kCmkOe\"><img alt=\"\" class=\"DS1iW\" src=\"https://encrypted-tbn0.gstatic.com/images?q=tbn:ANd9GcQXhRozPeN_ofFzgMvQcHZvcplv3EpOrLtmrSnBG88kwoJo8RFn0Ev3aLykTYA&amp;s\"/></div></a></td></tr><tr><td><a href=\"/url?q=https://www.forbes.com/profile/virat-kohli/&amp;sa=U&amp;ved=2ahUKEwjuls7px-SCAxXSfWwGHX6GAfIQr4kDegQIARAC&amp;usg=AOvVaw2RsBLBxoI-Z44zY_IiWXfR\"><div class=\"AlD19d\"> <span class=\"qXLe6d x3G5ab\"> <span class=\"fYyStc\">0x0.jpg?format=jpg&amp;crop=233...</span> </span> <span class=\"qXLe6d F9iS2e\"> <span class=\"fYyStc\">www.forbes.com</span> </span> </div></a></td></tr></table></div></div> </div> </div></td><td align=\"center\" class=\"e3goi\"><div class=\"jjVJ4e\"> <div> <div class=\"lIMUZd\"><div><table class=\"RntSmf\"><tr><td><a href=\"/url?q=https://www.timesnownews.com/web-stories/sports/batsmen-with-more-runs-than-virat-kohli-in-odi-cricket/photostory/104639743.cms&amp;sa=U&amp;ved=2ahUKEwjuls7px-SCAxXSfWwGHX6GAfIQqoUBegQIBhAB&amp;usg=AOvVaw0_ptI8jIfRWL_XkFWNmTDd\"><div class=\"kCmkOe\"><img alt=\"\" class=\"DS1iW\" src=\"https://encrypted-tbn0.gstatic.com/images?q=tbn:ANd9GcT7I67GHW-ghe0JKWgBLNKF5IL0-mGkbh4t4zDU8LvyP2lFvQPpRFw92CLKFEA&amp;s\"/></div></a></td></tr><tr><td><a href=\"/url?q=https://www.timesnownews.com/web-stories/sports/batsmen-with-more-runs-than-virat-kohli-in-odi-cricket/photostory/104639743.cms&amp;sa=U&amp;ved=2ahUKEwjuls7px-SCAxXSfWwGHX6GAfIQr4kDegQIBhAC&amp;usg=AOvVaw0Q90j7H1dtIVLW58OhYX_U\"><div class=\"AlD19d\"> <span class=\"qXLe6d x3G5ab\"> <span class=\"fYyStc\">Batsmen With More Runs Than...</span> </span> <span class=\"qXLe6d F9iS2e\"> <span class=\"fYyStc\">www.timesnownews.com</span> </span> </div></a></td></tr></table></div></div> </div> </div></td><td align=\"center\" class=\"e3goi\"><div class=\"jjVJ4e\"> <div> <div class=\"lIMUZd\"><div><table class=\"RntSmf\"><tr><td><a href=\"/url?q=https://www.hindustantimes.com/cricket/players/virat-kohli-3993&amp;sa=U&amp;ved=2ahUKEwjuls7px-SCAxXSfWwGHX6GAfIQqoUBegQIAxAB&amp;usg=AOvVaw0KzvVzEJD0_T2m4paL8PPk\"><div class=\"kCmkOe\"><img alt=\"\" class=\"DS1iW\" src=\"https://encrypted-tbn0.gstatic.com/images?q=tbn:ANd9GcTSXAAowoe0NgqE0pqClijI-yiRHh6rTGtVdCFlASGdLbACDc387hCvU2vNDg&amp;s\"/></div></a></td></tr><tr><td><a href=\"/url?q=https://www.hindustantimes.com/cricket/players/virat-kohli-3993&amp;sa=U&amp;ved=2ahUKEwjuls7px-SCAxXSfWwGHX6GAfIQr4kDegQIAxAC&amp;usg=AOvVaw1tgeCECNGB_njYtlAsLtgJ\"><div class=\"AlD19d\"> <span class=\"qXLe6d x3G5ab\"> <span class=\"fYyStc\">Virat Kohli - Virat Kohli...</span> </span> <span class=\"qXLe6d F9iS2e\"> <span class=\"fYyStc\">www.hindustantimes.com</span> </span> </div></a></td></tr></table></div></div> </div> </div></td><td align=\"center\" class=\"e3goi\"><div class=\"jjVJ4e\"> <div> <div class=\"lIMUZd\"><div><table class=\"RntSmf\"><tr><td><a href=\"/url?q=https://sports.ndtv.com/cricket/when-virat-kohli-thought-about-leaving-rcb-decided-to-stay-because-4607008&amp;sa=U&amp;ved=2ahUKEwjuls7px-SCAxXSfWwGHX6GAfIQqoUBegQICBAB&amp;usg=AOvVaw0wA6bn5D7azIVZs-0N8gUu\"><div class=\"kCmkOe\"><img alt=\"\" class=\"DS1iW\" src=\"https://encrypted-tbn0.gstatic.com/images?q=tbn:ANd9GcTjiHoBh6M9mD-XmdKTo8ys8LVk36Q2kV-zMfyqirXDSf8RswLNWRsviGQ3IQ&amp;s\"/></div></a></td></tr><tr><td><a href=\"/url?q=https://sports.ndtv.com/cricket/when-virat-kohli-thought-about-leaving-rcb-decided-to-stay-because-4607008&amp;sa=U&amp;ved=2ahUKEwjuls7px-SCAxXSfWwGHX6GAfIQr4kDegQICBAC&amp;usg=AOvVaw2Ic5Ndp6ju-EplHrtCQ29x\"><div class=\"AlD19d\"> <span class=\"qXLe6d x3G5ab\"> <span class=\"fYyStc\">When Virat Kohli \"Thought...</span> </span> <span class=\"qXLe6d F9iS2e\"> <span class=\"fYyStc\">sports.ndtv.com</span> </span> </div></a></td></tr></table></div></div> </div> </div></td></tr></table></div><table class=\"uZgmoc\"><tbody><td><a class=\"frGj1b\" href=\"/search?q=Virat+Kohli&amp;sca_esv=585642759&amp;biw=1366&amp;bih=619&amp;ie=UTF-8&amp;tbm=isch&amp;ei=l75kZa7vH9L7seMP_oyGkA8&amp;start=20&amp;sa=N\">Next &gt;</a></td></tbody></table><br/><div class=\"TuS8Ad\" data-ved=\"0ahUKEwjuls7px-SCAxXSfWwGHX6GAfIQpyoIUg\"><style>.VYM29{font-weight:bold}</style><div align=\"center\" class=\"HddGcc\"><span class=\"VYM29\">Badlapur, Maharashtra</span><span> - </span><span>From your IP address</span><span> - </span><a href=\"/url?q=https://support.google.com/websearch%3Fp%3Dws_settings_location%26hl%3Den-IN&amp;opi=89978449&amp;sa=U&amp;ved=0ahUKEwjuls7px-SCAxXSfWwGHX6GAfIQty4IUw&amp;usg=AOvVaw3iQEBxNqSB8_jKK3Eqbbkh\">Learn more</a></div><div align=\"center\"><a class=\"rEM8G\" href=\"/url?q=https://accounts.google.com/ServiceLogin%3Fcontinue%3Dhttps://www.google.com/search%253Fq%253DVirat%252BKohli%2526sca_esv%253D585642759%2526tbm%253Disch%2526sxsrf%253DAM9HkKmkyBko612jotqZhmaoujoetD_7qA:1701100336189%2526source%253Dlnms%2526sa%253DX%2526ved%253D2ahUKEwiT4o_KxOSCAxWpS2wGHWHDCwYQ_AUoAXoECAIQAw%2526biw%253D1366%2526bih%253D619%2526dpr%253D1%26hl%3Den&amp;opi=89978449&amp;sa=U&amp;ved=0ahUKEwjuls7px-SCAxXSfWwGHX6GAfIQxs8CCFQ&amp;usg=AOvVaw1SrRwJEEpUBPP_zzAaHyBE\">Sign in</a></div><div><table class=\"bookcf\"><tbody class=\"InWNIe\"><tr><td><a class=\"rEM8G\" href=\"https://www.google.com/preferences?hl=en&amp;sa=X&amp;ved=0ahUKEwjuls7px-SCAxXSfWwGHX6GAfIQv5YECFU\">Settings</a></td><td><a class=\"rEM8G\" href=\"https://www.google.com/intl/en_in/policies/privacy/\">Privacy</a></td><td><a class=\"rEM8G\" href=\"https://www.google.com/intl/en_in/policies/terms/\">Terms</a></td></tr></tbody></table></div></div><div> </div></body></html>"
      ]
     },
     "execution_count": 9,
     "metadata": {},
     "output_type": "execute_result"
    }
   ],
   "source": [
    "Soup"
   ]
  },
  {
   "cell_type": "code",
   "execution_count": 11,
   "id": "c069d1ec-8786-4d39-9a60-21208932fd20",
   "metadata": {},
   "outputs": [],
   "source": [
    "images_tags=Soup.find_all('img')"
   ]
  },
  {
   "cell_type": "code",
   "execution_count": 12,
   "id": "d9261c03-fa94-4253-a2fc-1a6da582a1e6",
   "metadata": {},
   "outputs": [
    {
     "data": {
      "text/plain": [
       "[<img alt=\"Google\" class=\"kgJEQe\" src=\"/images/branding/searchlogo/1x/googlelogo_desk_heirloom_color_150x55dp.gif\"/>,\n",
       " <img alt=\"\" class=\"DS1iW\" src=\"https://encrypted-tbn0.gstatic.com/images?q=tbn:ANd9GcSApOD8cC7Jh33c0VqbcFkcmx0og9wr1DYsD50a8Tp3p-0I33M_SuuLXA0Kizk&amp;s\"/>,\n",
       " <img alt=\"\" class=\"DS1iW\" src=\"https://encrypted-tbn0.gstatic.com/images?q=tbn:ANd9GcRgTE2N-_sNdYh3U67ejUDU8yHTn60PET41XqJ5_f7aFG7046QsagxZDHL41kA&amp;s\"/>,\n",
       " <img alt=\"\" class=\"DS1iW\" src=\"https://encrypted-tbn0.gstatic.com/images?q=tbn:ANd9GcTAiMpSi_l_2Ox-l6rmEgEXvvZVbyGCd_38EMKKlglEAsB8yDOXsLJvl5MKDQ&amp;s\"/>,\n",
       " <img alt=\"\" class=\"DS1iW\" src=\"https://encrypted-tbn0.gstatic.com/images?q=tbn:ANd9GcQiANnwmlSWg_DriDZny8kbPSsuUshaxRsUpeWXc1c9jd4X6-VPBsXPzjx7oQ&amp;s\"/>,\n",
       " <img alt=\"\" class=\"DS1iW\" src=\"https://encrypted-tbn0.gstatic.com/images?q=tbn:ANd9GcR0o85B6qbCXNBYSkig0_tBxnBh_J1fg1yAtBZPtod-ZaVPJz4_kCimvEtSrw&amp;s\"/>,\n",
       " <img alt=\"\" class=\"DS1iW\" src=\"https://encrypted-tbn0.gstatic.com/images?q=tbn:ANd9GcT2v0yEw2bWpMXW-OkRvmrw2TuzL8pv9_3Ltkmm2dbJQnRucZvuyUvpYWwHiTU&amp;s\"/>,\n",
       " <img alt=\"\" class=\"DS1iW\" src=\"https://encrypted-tbn0.gstatic.com/images?q=tbn:ANd9GcQhQKLM_qQA3LpS1HlzLoObF-k4qdBW30P8ftrbMd0869KFnLPdpzaBn_x2-3k&amp;s\"/>,\n",
       " <img alt=\"\" class=\"DS1iW\" src=\"https://encrypted-tbn0.gstatic.com/images?q=tbn:ANd9GcQFNDk8omnbNfjxWI0vGNovro_0kW6Q1tFwMyXi1-KOQ5G526Wn0MkTlZ_Q7w&amp;s\"/>,\n",
       " <img alt=\"\" class=\"DS1iW\" src=\"https://encrypted-tbn0.gstatic.com/images?q=tbn:ANd9GcRex6xKHaq0ZelmDv9UfgKkFGxqAX5v3u0Jw2ygIvOGDtQ5-9n8PFz9hVPyIFw&amp;s\"/>,\n",
       " <img alt=\"\" class=\"DS1iW\" src=\"https://encrypted-tbn0.gstatic.com/images?q=tbn:ANd9GcT_b0VbqFhUtz1lxxoqCxdrDbr72ojmXiq5pK-Y6eXQGR77xpJfOazZKT-Keg&amp;s\"/>,\n",
       " <img alt=\"\" class=\"DS1iW\" src=\"https://encrypted-tbn0.gstatic.com/images?q=tbn:ANd9GcQjN3o1k7S3Qtlo6YyMkXLv6D4wZ-_tWt2keLcq-w8IlpSsMHVZCa3elriucYE&amp;s\"/>,\n",
       " <img alt=\"\" class=\"DS1iW\" src=\"https://encrypted-tbn0.gstatic.com/images?q=tbn:ANd9GcSuyheOz__m1drXyPXHHsEa7S4Nw0NYTf8l39SewG8E_g0dP45H77WweJEiHA&amp;s\"/>,\n",
       " <img alt=\"\" class=\"DS1iW\" src=\"https://encrypted-tbn0.gstatic.com/images?q=tbn:ANd9GcSxvVG3ZbkwHoEVQVft4TMA-VX7R8gyvDD4Y5u00zW5xmp-Kay3JJKJIyLphw&amp;s\"/>,\n",
       " <img alt=\"\" class=\"DS1iW\" src=\"https://encrypted-tbn0.gstatic.com/images?q=tbn:ANd9GcSHo9xNoyq67GdqQmiYwTJ5z9DsnanzunQQu64uC7yfTNKUpUQvWTnvz60RdRs&amp;s\"/>,\n",
       " <img alt=\"\" class=\"DS1iW\" src=\"https://encrypted-tbn0.gstatic.com/images?q=tbn:ANd9GcSy4d5Yh1XhlwbvTrr1I05e6nSLS1fAhrbDuJcedq4q7j0W0QYKZrXX6vKQWQ&amp;s\"/>,\n",
       " <img alt=\"\" class=\"DS1iW\" src=\"https://encrypted-tbn0.gstatic.com/images?q=tbn:ANd9GcR6OnSs5mDy3uhCmj7_yrFhJP5OSbo-vKgwUNDfNqXyR4sXaxeEN23wzL1lqg&amp;s\"/>,\n",
       " <img alt=\"\" class=\"DS1iW\" src=\"https://encrypted-tbn0.gstatic.com/images?q=tbn:ANd9GcQXhRozPeN_ofFzgMvQcHZvcplv3EpOrLtmrSnBG88kwoJo8RFn0Ev3aLykTYA&amp;s\"/>,\n",
       " <img alt=\"\" class=\"DS1iW\" src=\"https://encrypted-tbn0.gstatic.com/images?q=tbn:ANd9GcT7I67GHW-ghe0JKWgBLNKF5IL0-mGkbh4t4zDU8LvyP2lFvQPpRFw92CLKFEA&amp;s\"/>,\n",
       " <img alt=\"\" class=\"DS1iW\" src=\"https://encrypted-tbn0.gstatic.com/images?q=tbn:ANd9GcTSXAAowoe0NgqE0pqClijI-yiRHh6rTGtVdCFlASGdLbACDc387hCvU2vNDg&amp;s\"/>,\n",
       " <img alt=\"\" class=\"DS1iW\" src=\"https://encrypted-tbn0.gstatic.com/images?q=tbn:ANd9GcTjiHoBh6M9mD-XmdKTo8ys8LVk36Q2kV-zMfyqirXDSf8RswLNWRsviGQ3IQ&amp;s\"/>]"
      ]
     },
     "execution_count": 12,
     "metadata": {},
     "output_type": "execute_result"
    }
   ],
   "source": [
    "images_tags"
   ]
  },
  {
   "cell_type": "code",
   "execution_count": 13,
   "id": "e6744fbe-64ac-483f-a8a7-f97e5cdb913f",
   "metadata": {},
   "outputs": [
    {
     "data": {
      "text/plain": [
       "21"
      ]
     },
     "execution_count": 13,
     "metadata": {},
     "output_type": "execute_result"
    }
   ],
   "source": [
    "len(images_tags)"
   ]
  },
  {
   "cell_type": "code",
   "execution_count": 14,
   "id": "17f5afaa-df3f-4e23-8170-2d3f7ca133d5",
   "metadata": {},
   "outputs": [],
   "source": [
    "del images_tags[0]"
   ]
  },
  {
   "cell_type": "code",
   "execution_count": 18,
   "id": "daeea4b9-5bf0-42aa-bd6f-cad4a89b1cbf",
   "metadata": {},
   "outputs": [],
   "source": [
    "img_data_mongo = []\n",
    "\n",
    "for i in images_tags:\n",
    "    image_url=i['src']\n",
    "    image_data=requests.get(image_url).content\n",
    "    mydict={'index':image_url,'image': image_data}\n",
    "    img_data_mongo.append(mydict)\n",
    "\n",
    "    with open(os.path.join(save_dir,f'{query}_{images_tags.index(i)}.jpg'),'wb') as f:\n",
    "        f.write(image_data)"
   ]
  },
  {
   "cell_type": "code",
   "execution_count": null,
   "id": "9c8a374b-33ed-413d-b0a3-91bb88e74c00",
   "metadata": {},
   "outputs": [],
   "source": [
    " "
   ]
  }
 ],
 "metadata": {
  "kernelspec": {
   "display_name": "Python 3 (ipykernel)",
   "language": "python",
   "name": "python3"
  },
  "language_info": {
   "codemirror_mode": {
    "name": "ipython",
    "version": 3
   },
   "file_extension": ".py",
   "mimetype": "text/x-python",
   "name": "python",
   "nbconvert_exporter": "python",
   "pygments_lexer": "ipython3",
   "version": "3.11.5"
  }
 },
 "nbformat": 4,
 "nbformat_minor": 5
}
